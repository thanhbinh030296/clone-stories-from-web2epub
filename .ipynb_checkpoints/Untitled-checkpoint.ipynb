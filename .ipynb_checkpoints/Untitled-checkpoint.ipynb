{
 "cells": [
  {
   "cell_type": "code",
   "execution_count": 5,
   "id": "b8da8342",
   "metadata": {},
   "outputs": [
    {
     "ename": "ImportError",
     "evalue": "cannot import name 'Epub' from 'epub' (C:\\Users\\benpoint\\.conda\\envs\\binhnt\\Lib\\site-packages\\epub\\__init__.py)",
     "output_type": "error",
     "traceback": [
      "\u001b[1;31m---------------------------------------------------------------------------\u001b[0m",
      "\u001b[1;31mImportError\u001b[0m                               Traceback (most recent call last)",
      "Cell \u001b[1;32mIn[5], line 2\u001b[0m\n\u001b[0;32m      1\u001b[0m \u001b[38;5;28;01mimport\u001b[39;00m \u001b[38;5;21;01mtime\u001b[39;00m \n\u001b[1;32m----> 2\u001b[0m \u001b[38;5;28;01mimport\u001b[39;00m \u001b[38;5;21;01mpypub\u001b[39;00m\n\u001b[0;32m      3\u001b[0m \u001b[38;5;28;01mfrom\u001b[39;00m \u001b[38;5;21;01mtqdm\u001b[39;00m\u001b[38;5;21;01m.\u001b[39;00m\u001b[38;5;21;01mnotebook\u001b[39;00m \u001b[38;5;28;01mimport\u001b[39;00m tqdm_notebook \u001b[38;5;28;01mas\u001b[39;00m tqdm\n\u001b[0;32m      4\u001b[0m \u001b[38;5;28;01mimport\u001b[39;00m \u001b[38;5;21;01mpandas\u001b[39;00m \u001b[38;5;28;01mas\u001b[39;00m \u001b[38;5;21;01mpd\u001b[39;00m \n",
      "File \u001b[1;32m~\\.conda\\envs\\binhnt\\Lib\\site-packages\\pypub\\__init__.py:2\u001b[0m\n\u001b[0;32m      1\u001b[0m \u001b[38;5;124m'\u001b[39m\u001b[38;5;124mepub.py functions and classes\u001b[39m\u001b[38;5;124m'\u001b[39m\n\u001b[1;32m----> 2\u001b[0m \u001b[38;5;28;01mfrom\u001b[39;00m \u001b[38;5;21;01mepub\u001b[39;00m \u001b[38;5;28;01mimport\u001b[39;00m Epub\n\u001b[0;32m      4\u001b[0m \u001b[38;5;124m'\u001b[39m\u001b[38;5;124mchapter.py functions and classes\u001b[39m\u001b[38;5;124m'\u001b[39m\n\u001b[0;32m      5\u001b[0m \u001b[38;5;28;01mfrom\u001b[39;00m \u001b[38;5;21;01mchapter\u001b[39;00m \u001b[38;5;28;01mimport\u001b[39;00m Chapter\n",
      "\u001b[1;31mImportError\u001b[0m: cannot import name 'Epub' from 'epub' (C:\\Users\\benpoint\\.conda\\envs\\binhnt\\Lib\\site-packages\\epub\\__init__.py)"
     ]
    }
   ],
   "source": [
    "import time \n",
    "import pypub\n",
    "from tqdm.notebook import tqdm_notebook as tqdm\n",
    "import pandas as pd \n",
    "from selenium import webdriver \n",
    "from selenium.webdriver import Chrome \n",
    "from selenium.webdriver.chrome.service import Service \n",
    "from selenium.webdriver.common.by import By \n",
    "from webdriver_manager.chrome import ChromeDriverManager"
   ]
  },
  {
   "cell_type": "code",
   "execution_count": 4,
   "id": "32617b1c",
   "metadata": {},
   "outputs": [
    {
     "name": "stdout",
     "output_type": "stream",
     "text": [
      "Collecting epub\n",
      "  Downloading epub-0.5.2.tar.gz (44 kB)\n",
      "     ---------------------------------------- 0.0/44.5 kB ? eta -:--:--\n",
      "     --------------------------- ------------ 30.7/44.5 kB 1.3 MB/s eta 0:00:01\n",
      "     ---------------------------------------- 44.5/44.5 kB 439.8 kB/s eta 0:00:00\n",
      "  Preparing metadata (setup.py): started\n",
      "  Preparing metadata (setup.py): finished with status 'done'\n",
      "Building wheels for collected packages: epub\n",
      "  Building wheel for epub (setup.py): started\n",
      "  Building wheel for epub (setup.py): finished with status 'done'\n",
      "  Created wheel for epub: filename=epub-0.5.2-py3-none-any.whl size=16324 sha256=d16d628889655f6e774f88704e48b4c104109503631241551186bd1982950fdd\n",
      "  Stored in directory: c:\\users\\benpoint\\appdata\\local\\pip\\cache\\wheels\\dc\\fe\\2f\\42a96c315cc581a137c068cb3d1805a40ac1216411f911da91\n",
      "Successfully built epub\n",
      "Installing collected packages: epub\n",
      "Successfully installed epub-0.5.2\n"
     ]
    }
   ],
   "source": []
  },
  {
   "cell_type": "code",
   "execution_count": 53,
   "id": "6cb19729",
   "metadata": {},
   "outputs": [
    {
     "data": {
      "application/vnd.jupyter.widget-view+json": {
       "model_id": "702800da6344449f86c805803c2aae0e",
       "version_major": 2,
       "version_minor": 0
      },
      "text/plain": [
       "  0%|          | 0/10 [00:00<?, ?it/s]"
      ]
     },
     "metadata": {},
     "output_type": "display_data"
    }
   ],
   "source": [
    "for i in tqdm(range(10)):\n",
    "    k=1"
   ]
  },
  {
   "cell_type": "code",
   "execution_count": 35,
   "id": "1d4eb077",
   "metadata": {},
   "outputs": [
    {
     "name": "stderr",
     "output_type": "stream",
     "text": [
      "C:\\Users\\benpoint\\AppData\\Local\\Temp\\ipykernel_7708\\210964506.py:3: DeprecationWarning: headless property is deprecated, instead use add_argument('--headless') or add_argument('--headless=new')\n",
      "  options.headless = True # it's more scalable to work in headless mode\n"
     ]
    }
   ],
   "source": [
    "# start by defining the options \n",
    "options = webdriver.ChromeOptions() \n",
    "options.headless = True # it's more scalable to work in headless mode \n",
    "# normally, selenium waits for all resources to download \n",
    "# we don't need it as the page also populated with the running javascript code. \n",
    "options.page_load_strategy = 'none' \n",
    "# this returns the path web driver downloaded \n",
    "chrome_path = ChromeDriverManager().install() \n",
    "chrome_service = Service(chrome_path) \n",
    "# pass the defined options and service objects to initialize the web driver \n",
    "driver = Chrome(options=options, service=chrome_service) \n",
    "driver.implicitly_wait(5)"
   ]
  },
  {
   "cell_type": "code",
   "execution_count": 36,
   "id": "85ef32d0",
   "metadata": {},
   "outputs": [],
   "source": [
    "url = \"https://truyentiki.com/dan-gian-quy-nghe-that-luc.46624/chuong-1179/\"\n",
    "\n",
    " \n",
    "driver.get(url) \n",
    "time.sleep(10)"
   ]
  },
  {
   "cell_type": "code",
   "execution_count": 42,
   "id": "79712323",
   "metadata": {},
   "outputs": [
    {
     "data": {
      "text/plain": [
       "<selenium.webdriver.chrome.webdriver.WebDriver (session=\"71891bc67928e9a34d3463c64119ba84\")>"
      ]
     },
     "execution_count": 42,
     "metadata": {},
     "output_type": "execute_result"
    }
   ],
   "source": [
    "driver"
   ]
  },
  {
   "cell_type": "code",
   "execution_count": 44,
   "id": "f3bcd977",
   "metadata": {},
   "outputs": [],
   "source": [
    "stringhihi = driver.find_element(By.XPATH, \"/html/body\").text"
   ]
  },
  {
   "cell_type": "code",
   "execution_count": 50,
   "id": "798a6d3b",
   "metadata": {},
   "outputs": [
    {
     "data": {
      "text/plain": [
       "['Saved\\nFont\\n\\nTrước\\n/1179\\nGO\\nSau\\n',\n",
       " '\\n1179. Thứ 1179 Chương Có Lẽ Ta Có Thể Cho Ngươi Đáp Án（ Hết Trọn Bộ）\\nClick nút để xem bản google dịch.\\n Tắt Edit (Giảm Lag)\\ntiếng khóc kia, cái kia hí khúc nhi, tại bên tai ta, trong ý thức quanh quẩn không ngừng.\\nTrong tay ta đối với giấy châm điều khiển lại càng ngày càng thuần thục.\\nGiấy đâm lắc lư, giấy quấn lên treo kim tính toán cũng là rung động không thôi, phát ra tí tách âm thanh.\\nNày liền giống như là nó đang đáp lại gì trĩ bi thương đồng dạng!\\nChẳng biết tại sao, trong lòng ta càng là thông suốt đi lên một cỗ khí, cái này cổ vũ sĩ khí dường như để cho ta trong đầu một hồi thanh minh.\\nCái kia thanh minh, để cho ta trong đầu lập tức xuất hiện một cái ý nghĩ.\\nTa hít sâu, ngưng thần tĩnh khí.\\nHồi lâu sau, ta thấp giọng lẩm bẩm nói: “tiên sinh cầu ác cuối cùng khó khăn tỉnh, đi xa nhất định thiện niệm về.”\\n“Phòng trống nữ cô nhi hàng đêm khóc, ngày sau hai người phó kiếp sau......”\\nBắt đầu ta âm thanh rất thấp, đến rồi đằng sau, ta ngữ khí liền âm vang đứng lên, trung khí mười phần.\\nTa âm thanh rất lớn, lớn đến thanh âm này tại trong sương mù vang vọng, đem tiếng khóc kia áp chế hoàn toàn xuống dưới.\\nĐồng thời tay ta tại khẽ run, đến mức đại biểu Lý Âm Dương cái kia giấy đâm không ngừng run rẩy, kim tính toán âm thanh cũng là không nhỏ.\\nLàm ta thật vất vả bình phục lại nỗi lòng, dừng lại sau đó, tựa như tiếng khóc kia cũng ngừng......\\nSương mù vẫn như cũ nồng đậm, bi thương vẫn không có tán đi.\\nNhưng ta rất rõ ràng, ta đây câu nói, cho gì trĩ một cái hi vọng.\\nBản thân nàng hoàn toàn không có hi vọng, ít nhất, bây giờ có một cái phương hướng......\\nĐùng âm thanh bên trong, tất cả tơ thép, bỗng nhiên cùng kêu lên cắt ra.\\nTất cả giấy Trát Nhân, toàn bộ đều lẳng lặng đứng lặng tại chỗ......\\nTa thở ra một hơi dài, chuẩn bị nghỉ ngơi một hồi xuống đài, liền muốn rời đi viên Thị Âm Dương trạch.\\nCó thể hết lần này tới lần khác đúng lúc này, thùng thùng tiếng đập cửa, đột nhiên từ dưới đài truyền đến.\\nCái này khiến trong lòng ta run lên sau khi, càng là có mấy phần kinh ngạc cùng không hiểu.\\nViên Thị Âm Dương trạch, còn có người có thể tới?\\nTa ổn định tâm thần, xuống đài đi đến trước cổng chính, cảnh giác mở ra đại môn.\\nMà ở ngoài cửa, đứng một vị phụ nhân.\\nTừ ở bề ngoài nhìn, phụ nhân này ước chừng bốn mươi mấy tuổi niên kỷ.\\nNàng khoác lên một kiện màu trắng sa y, bên trong là một thân màu vàng gấm mặt sườn xám, trên cổ bọc một đầu thật dài màu trắng khăn lụa.\\nCái này mặc trang phục, cao quý bên trong lộ ra mấy phần thần bí, trên người nàng còn mang theo một chút thật nhỏ đồ trang sức, ta gọi không hơn tên.\\nĐơn cái nhìn này nhìn, phụ nhân này tuyệt đối không phải người bình thường.\\nNàng ngũ quan hình dáng rất thâm thúy, sáng bóng trán, rõ ràng lông mày cốt, sóng mũi cao, hốc mắt hơi hơi lõm, một đôi màu nâu con mắt tựa như như lưu ly sáng tỏ oánh nhuận.\\nLấy tướng mạo chi pháp, từ mặt mũi ngũ quan cốt cùng nhau bên trên, cùng với phụ nhân này trên thân chỗ lắng đọng thời đại khí tức, đều thuyết minh tuổi của nàng tuyệt không phải bề ngoài nhìn qua trẻ tuổi như vậy.\\nDáng dấp của nàng, làm ta cảm thấy có mấy phần quen thuộc.\\nTrong lòng ta run lên, nhanh chóng đưa tay ra tại trong túi tìm tòi đồ vật.\\nPhụ nhân hai mắt cùng ta đối mặt, nàng nâng tay phải lên, dường như muốn đụng vào ta.\\nBất quá cũng không có đụng tới, chỉ là dừng lại ở trước mắt ta mấy tấc.\\nNàng ánh mắt trở nên càng thêm thâm thúy, giống như là nàng đang nhìn cái gì tựa như.\\nTiếp lấy, ánh mắt của nàng xê dịch đến thân ta bên cạnh, giống như là xuyên qua viện môn, đang nhìn viên Thị Âm Dương trạch bên trong!\\nHơn nữa, tay nàng động tác hơi run một chút một chút.\\nNàng thần sắc tựa hồ ngơ ngác một chút, lẩm bẩm đạo: “nàng rất khó chịu, bất quá, lại thật giống như không còn khó chịu, người trẻ tuổi, ngươi làm cái gì?”\\nLúc này, ta đã móc ra tấm hình kia, tay nhịn không được lắc một cái.\\n“Ngài, rốt cuộc là ai?”\\nChân mày ta nhíu chặt trở thành một cái chữ Xuyên, hoàn toàn tích tụ cùng một chỗ.\\nNàng ngũ quan cốt cùng nhau, rất như là trong tấm ảnh, Dương Thanh Sơn trong miệng Cẩn nhi.\\nThế nhưng là đây không khỏi cũng quá trùng hợp.\\nDương Thanh Sơn đích xác không có đi tìm nàng, ít nhất tại ta biết thời điểm, hắn không có đi tìm, chỉ là một mực đi theo ta.\\nNhưng là trùng hợp như vậy?\\nNàng liền trực tiếp xuất hiện ở viên Thị Âm Dương trạch?!\\nPhụ nhân khẽ thở dài một tiếng, ánh mắt thương cảm mà nhìn xem trong tay ta ảnh chụp.\\nNàng lại lắc đầu, nói khẽ: “ngươi biết ta là ai, hắn nhất định nói cho ngươi ta tên. Ngươi chỉ là hoài nghi, vì sao lại nhìn thấy ta.”\\n“Ngươi mặc lấy âm dương tiên sinh trang phục nhà Đường, có cùng người kia một dạng khí tức, ngươi có thể phân biệt ra được, ta có hay không nói dối.”\\n“Về phần tại sao ta có thể tìm được ngươi.”\\n“Có một loại người, gọi là âm dương tiên sinh, bọn hắn hành tẩu tại Âm Dương giới, nhường người lạ bình an, nhường người chết nghỉ ngơi.”\\n“Còn có một loại khác người, câu thông Âm Dương giới, nhường người sống có thể nghe được người mất lời nói.”\\n“Hài tử, nhìn con mắt ta.” Thanh âm của nàng, để cho người ta rất là có một loại tin phục cảm giác.\\nMà dáng dấp của nàng, cũng cho ta sinh không nổi quá nhiều cảnh giác cùng hoài nghi.\\nHoàn toàn chính xác, ta không có từ nàng tướng mạo nhìn lên đến hoang ngôn.\\nNàng ánh mắt thâm thúy bên trong, sẽ chỉ làm người cảm thấy từ sâu trong linh hồn cảm nhận được thân cận, tín nhiệm, thậm chí muốn cùng nàng nói ra móc tim thực chất lời từ đáy lòng.\\nNàng ngẩng đầu nhìn ta, ánh mắt cùng ta đối mặt ở giữa, ta ý thức run lên.\\nTựa như bên tai nghe được rất nhiều người ở đây lẩm bẩm......\\nBên kia lẩm bẩm bên trong, có quá nhiều âm thanh vô cùng quen thuộc......\\n“Ngươi có rất nhiều sự tình muốn biết, ta có lẽ có thể cho ngươi một đáp án.”\\n“Ta muốn gặp hắn, có lẽ, ngươi cũng có thể giúp ta.”\\n“Đúng không?”\\n【 Tác giả có lời nói】\\nsách mới: 《 dân gian quỷ ngửi thực lục: âm dương tiên sinh》 đã đồng bộ phát biểu tại bảy mèo.\\n366 Thiên, lão La đánh xuống dân gian 2430000 còn lại chữ.\\nNhân sinh ngắn ngủi mấy chục năm, rất nhiều thư hữu làm bạn dân gian một năm, làm bạn lão La một năm.\\nHy vọng sách mới vẫn như cũ có thể làm cho đại gia tại lúc rảnh rỗi có một tí tinh thần an ủi.\\nTa đem cẩn trọng, không cô phụ đại gia.\\nPS: Nguyệt phiếu cho sách mới a! Hy vọng sách mới, lấy truyền kỳ bắt đầu! Dân gian chính là huyền nghi linh dị cứng rắn nhất cái kia dây thừng!\\n（ Ưỡn mặt cho sách mới cầu một chút khen thưởng（ sách mới buổi chiều mới có thể bị đánh thưởng）, lão La muốn một tiếng hót lên làm kinh người. Có thể chứ......）\\n\\nTruyện Dịch : Hôn Nhân Tái Sinh: Lục Thiếu Cưng Chiều Cô Vợ Bác Sĩ Bí Ẩn Tận Trời\\n\\nTrước\\nDS Chương\\nSau\\n\\nTheo Dõi Bình Luận\\nTruyện hay nên đọc\\nNhà Quyền Thế Quý Gả\\nLão Bà Đại Nhân Có Điểm Túm\\nTài Vận Trời Giáng\\nThiên Tài Thầy Tướng\\nĐấu La Đại Lục 4 Chung Cực Đấu La\\nLão Công Mỗi Ngày Không Giống Nhau\\nTừ Cô Hoạch Điểu Bắt Đầu\\nHào Tế Hàn 3000\\nYêu Thầm Thành Hoan, Nữ Nhân Mơ Tưởng Trốn\\nQuan Yêu\\n\\n\\n\\n\\n\\n\\nTruyenTiki.com\\nWebsite đọc truyện Convert kết hợp Google dịch số 1 Việt Nam.\\n\\n\\n+ Tên NV']"
      ]
     },
     "execution_count": 50,
     "metadata": {},
     "output_type": "execute_result"
    }
   ],
   "source": [
    "stringhihi.split(\"Dân Gian Quỷ Nghe Thật Lục\")"
   ]
  },
  {
   "cell_type": "code",
   "execution_count": null,
   "id": "05900e5b",
   "metadata": {},
   "outputs": [],
   "source": []
  },
  {
   "cell_type": "code",
   "execution_count": null,
   "id": "5545db85",
   "metadata": {},
   "outputs": [],
   "source": []
  },
  {
   "cell_type": "code",
   "execution_count": null,
   "id": "ae4d632d",
   "metadata": {},
   "outputs": [],
   "source": []
  },
  {
   "cell_type": "code",
   "execution_count": null,
   "id": "7710ea04",
   "metadata": {},
   "outputs": [],
   "source": []
  }
 ],
 "metadata": {
  "kernelspec": {
   "display_name": "Python 3 (ipykernel)",
   "language": "python",
   "name": "python3"
  },
  "language_info": {
   "codemirror_mode": {
    "name": "ipython",
    "version": 3
   },
   "file_extension": ".py",
   "mimetype": "text/x-python",
   "name": "python",
   "nbconvert_exporter": "python",
   "pygments_lexer": "ipython3",
   "version": "3.11.4"
  }
 },
 "nbformat": 4,
 "nbformat_minor": 5
}
